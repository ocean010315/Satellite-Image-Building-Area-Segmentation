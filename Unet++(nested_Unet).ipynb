{
  "nbformat": 4,
  "nbformat_minor": 0,
  "metadata": {
    "colab": {
      "provenance": [],
      "gpuType": "V100"
    },
    "kernelspec": {
      "name": "python3",
      "display_name": "Python 3"
    },
    "language_info": {
      "name": "python"
    },
    "accelerator": "GPU"
  },
  "cells": [
    {
      "cell_type": "markdown",
      "source": [
        "Import"
      ],
      "metadata": {
        "id": "XSBiZBN1Nr0M"
      }
    },
    {
      "cell_type": "code",
      "source": [
        "import os\n",
        "import cv2\n",
        "import pandas as pd\n",
        "import numpy as np\n",
        "\n",
        "import torch\n",
        "import torch.nn as nn\n",
        "from torch.utils.data import Dataset, DataLoader\n",
        "from torchvision import transforms\n",
        "\n",
        "from tqdm import tqdm\n",
        "import albumentations as A\n",
        "from albumentations.pytorch import ToTensorV2\n",
        "\n",
        "device = torch.device('cuda' if torch.cuda.is_available() else 'cpu')"
      ],
      "metadata": {
        "id": "6OuNNPdrhtBx"
      },
      "execution_count": 1,
      "outputs": []
    },
    {
      "cell_type": "markdown",
      "source": [
        "\n",
        "\n",
        "\n",
        "\n",
        "Utils\n",
        "\n"
      ],
      "metadata": {
        "id": "dn8Fwh5Qhrmz"
      }
    },
    {
      "cell_type": "code",
      "source": [
        "# RLE 디코딩 함수\n",
        "def rle_decode(mask_rle, shape):\n",
        "    s = mask_rle.split()\n",
        "    starts, lengths = [np.asarray(x, dtype=int) for x in (s[0:][::2], s[1:][::2])]\n",
        "    starts -= 1\n",
        "    ends = starts + lengths\n",
        "    img = np.zeros(shape[0]*shape[1], dtype=np.uint8)\n",
        "    for lo, hi in zip(starts, ends):\n",
        "        img[lo:hi] = 1\n",
        "    return img.reshape(shape)\n",
        "\n",
        "# RLE 인코딩 함수\n",
        "def rle_encode(mask):\n",
        "    pixels = mask.flatten()\n",
        "    pixels = np.concatenate([[0], pixels, [0]])\n",
        "    runs = np.where(pixels[1:] != pixels[:-1])[0] + 1\n",
        "    runs[1::2] -= runs[::2]\n",
        "    return ' '.join(str(x) for x in runs)"
      ],
      "metadata": {
        "id": "3MHY9bxoMymS"
      },
      "execution_count": 2,
      "outputs": []
    },
    {
      "cell_type": "code",
      "source": [
        "from google.colab import drive\n",
        "drive.mount('/content/drive')"
      ],
      "metadata": {
        "id": "25Pb9zXAp9jF",
        "colab": {
          "base_uri": "https://localhost:8080/"
        },
        "outputId": "3eb3cdb6-c47f-4a30-89cd-612dccaba432"
      },
      "execution_count": 3,
      "outputs": [
        {
          "output_type": "stream",
          "name": "stdout",
          "text": [
            "Mounted at /content/drive\n"
          ]
        }
      ]
    },
    {
      "cell_type": "code",
      "source": [
        "os.chdir('/content/drive/MyDrive/Dacon')\n",
        "os.getcwd()"
      ],
      "metadata": {
        "colab": {
          "base_uri": "https://localhost:8080/",
          "height": 36
        },
        "id": "uazyun1blMJ5",
        "outputId": "8a244ddd-fe52-4e65-acb8-fd6ed7b0d2e3"
      },
      "execution_count": 4,
      "outputs": [
        {
          "output_type": "execute_result",
          "data": {
            "text/plain": [
              "'/content/drive/MyDrive/Dacon'"
            ],
            "application/vnd.google.colaboratory.intrinsic+json": {
              "type": "string"
            }
          },
          "metadata": {},
          "execution_count": 4
        }
      ]
    },
    {
      "cell_type": "markdown",
      "source": [
        "Custom Dataset"
      ],
      "metadata": {
        "id": "P4gN8slAN1pY"
      }
    },
    {
      "cell_type": "code",
      "source": [
        "class SatelliteDataset(Dataset):\n",
        "    def __init__(self, csv_file, transform=None, infer=False):\n",
        "        self.data = pd.read_csv(csv_file)\n",
        "        self.transform = transform\n",
        "        self.infer = infer\n",
        "\n",
        "    def __len__(self):\n",
        "        return len(self.data)\n",
        "\n",
        "    def __getitem__(self, idx):\n",
        "        img_path = self.data.iloc[idx, 1]\n",
        "        image = cv2.imread(img_path)\n",
        "        image = cv2.cvtColor(image, cv2.COLOR_BGR2RGB)\n",
        "\n",
        "        if self.infer:\n",
        "            if self.transform:\n",
        "                image = self.transform(image=image)['image']\n",
        "            return image\n",
        "\n",
        "        mask_rle = self.data.iloc[idx, 2]\n",
        "        mask = rle_decode(mask_rle, (image.shape[0], image.shape[1]))\n",
        "\n",
        "        if self.transform:\n",
        "            augmented = self.transform(image=image, mask=mask)\n",
        "            image = augmented['image']\n",
        "            mask = augmented['mask']\n",
        "\n",
        "        return image, mask"
      ],
      "metadata": {
        "id": "oB1RVyejN4NZ"
      },
      "execution_count": 5,
      "outputs": []
    },
    {
      "cell_type": "markdown",
      "source": [
        "Data Loader"
      ],
      "metadata": {
        "id": "pxda_sTfiNex"
      }
    },
    {
      "cell_type": "code",
      "source": [
        "transform = A.Compose(\n",
        "    [\n",
        "        A.Resize(224, 224),\n",
        "        A.Normalize(),\n",
        "        ToTensorV2()\n",
        "    ]\n",
        ")\n",
        "\n",
        "dataset = SatelliteDataset(csv_file='./train.csv', transform=transform)\n",
        "dataloader = DataLoader(dataset, batch_size=16, shuffle=True, num_workers=4)"
      ],
      "metadata": {
        "colab": {
          "base_uri": "https://localhost:8080/"
        },
        "id": "lS51wyiXiL5x",
        "outputId": "bd219576-6411-4528-f353-9ceed4440e54"
      },
      "execution_count": 6,
      "outputs": [
        {
          "output_type": "stream",
          "name": "stderr",
          "text": [
            "/usr/local/lib/python3.10/dist-packages/torch/utils/data/dataloader.py:560: UserWarning: This DataLoader will create 4 worker processes in total. Our suggested max number of worker in current system is 2, which is smaller than what this DataLoader is going to create. Please be aware that excessive worker creation might get DataLoader running slow or even freeze, lower the worker number to avoid potential slowness/freeze if necessary.\n",
            "  warnings.warn(_create_warning_msg(\n"
          ]
        }
      ]
    },
    {
      "cell_type": "markdown",
      "source": [
        "Define Model"
      ],
      "metadata": {
        "id": "gdyvkELQN9LN"
      }
    },
    {
      "cell_type": "code",
      "source": [
        "# 각 레이어마다 Convolution과 Batchnorm, 그리고 ReLU를 2번 반복하는 구조\n",
        "class conv_block_nested(nn.Module):\n",
        "\n",
        "    def __init__(self, in_ch, mid_ch, out_ch):\n",
        "        super(conv_block_nested, self).__init__()\n",
        "        self.activation = nn.ReLU(inplace=True)\n",
        "        self.conv1 = nn.Conv2d(in_ch, mid_ch, kernel_size=3, padding=1, bias=True)\n",
        "        self.bn1 = nn.BatchNorm2d(mid_ch)\n",
        "        self.conv2 = nn.Conv2d(mid_ch, out_ch, kernel_size=3, padding=1, bias=True)\n",
        "        self.bn2 = nn.BatchNorm2d(out_ch)\n",
        "\n",
        "    def forward(self, x):\n",
        "        x = self.conv1(x)\n",
        "        x = self.bn1(x)\n",
        "        x = self.activation(x)\n",
        "\n",
        "        x = self.conv2(x)\n",
        "        x = self.bn2(x)\n",
        "        output = self.activation(x)\n",
        "\n",
        "        return output\n",
        "\n",
        "# Nested Unet(Unet++)\n",
        "class Nested_UNet(nn.Module):\n",
        "    def __init__(self, in_ch=3, out_ch=1):\n",
        "        super(Nested_UNet, self).__init__()\n",
        "    # def __init__(self, num_classes, input_channels=3, deep_supervision=False):\n",
        "    #     super().__init__()\n",
        "\n",
        "        n1 = 64\n",
        "        filters = [n1, n1 * 2, n1 * 4, n1 * 8, n1 * 16]\n",
        "        # num_filter = [32, 64, 128, 256, 512]\n",
        "\n",
        "        self.pool = nn.MaxPool2d(kernel_size=2, stride=2)\n",
        "        self.Up = nn.Upsample(scale_factor=2, mode='bilinear', align_corners=True)\n",
        "        # self.deep_supervision = deep_supervision\n",
        "        # self.pool = nn.MaxPool2d(kernel_size=2, stride=2)\n",
        "        # self.up = nn.Upsample(scale_factor=2, mode='bilinear', align_corners=True)\n",
        "\n",
        "        # DownSampling\n",
        "        self.conv0_0 = conv_block_nested(in_ch, filters[0], filters[0])\n",
        "        self.conv1_0 = conv_block_nested(filters[0], filters[1], filters[1])\n",
        "        self.conv2_0 = conv_block_nested(filters[1], filters[2], filters[2])\n",
        "        self.conv3_0 = conv_block_nested(filters[2], filters[3], filters[3])\n",
        "        self.conv4_0 = conv_block_nested(filters[3], filters[4], filters[4])\n",
        "        # self.conv0_0 = Unet_block(input_channels, num_filter[0], num_filter[0])\n",
        "        # self.conv1_0 = Unet_block(num_filter[0], num_filter[1], num_filter[1])\n",
        "        # self.conv2_0 = Unet_block(num_filter[1], num_filter[2], num_filter[2])\n",
        "        # self.conv3_0 = Unet_block(num_filter[2], num_filter[3], num_filter[3])\n",
        "        # self.conv4_0 = Unet_block(num_filter[3], num_filter[4], num_filter[4])\n",
        "\n",
        "        # Upsampling & Dense skip\n",
        "        self.conv0_1 = conv_block_nested(filters[0] + filters[1], filters[0], filters[0])\n",
        "        self.conv1_1 = conv_block_nested(filters[1] + filters[2], filters[1], filters[1])\n",
        "        self.conv2_1 = conv_block_nested(filters[2] + filters[3], filters[2], filters[2])\n",
        "        self.conv3_1 = conv_block_nested(filters[3] + filters[4], filters[3], filters[3])\n",
        "        # # N to 1 skip\n",
        "        # self.conv0_1 = Unet_block(num_filter[0] + num_filter[1], num_filter[0], num_filter[0])\n",
        "        # self.conv1_1 = Unet_block(num_filter[1] + num_filter[2], num_filter[1], num_filter[1])\n",
        "        # self.conv2_1 = Unet_block(num_filter[2] + num_filter[3], num_filter[2], num_filter[2])\n",
        "        # self.conv3_1 = Unet_block(num_filter[3] + num_filter[4], num_filter[3], num_filter[3])\n",
        "\n",
        "        self.conv0_2 = conv_block_nested(filters[0]*2 + filters[1], filters[0], filters[0])\n",
        "        self.conv1_2 = conv_block_nested(filters[1]*2 + filters[2], filters[1], filters[1])\n",
        "        self.conv2_2 = conv_block_nested(filters[2]*2 + filters[3], filters[2], filters[2])\n",
        "        # N to 2 skip\n",
        "        # self.conv0_2 = Unet_block(num_filter[0]*2 + num_filter[1], num_filter[0], num_filter[0])\n",
        "        # self.conv1_2 = Unet_block(num_filter[1]*2 + num_filter[2], num_filter[1], num_filter[1])\n",
        "        # self.conv2_2 = Unet_block(num_filter[2]*2 + num_filter[3], num_filter[2], num_filter[2])\n",
        "\n",
        "\n",
        "        self.conv0_3 = conv_block_nested(filters[0]*3 + filters[1], filters[0], filters[0])\n",
        "        self.conv1_3 = conv_block_nested(filters[1]*3 + filters[2], filters[1], filters[1])\n",
        "        # # N to 3 skip\n",
        "        # self.conv0_3 = Unet_block(num_filter[0]*3 + num_filter[1], num_filter[0], num_filter[0])\n",
        "        # self.conv1_3 = Unet_block(num_filter[1]*3 + num_filter[2], num_filter[1], num_filter[1])\n",
        "\n",
        "        self.conv0_4 = conv_block_nested(filters[0]*4 + filters[1], filters[0], filters[0])\n",
        "        # N to 4 skip\n",
        "        # self.conv0_4 = Unet_block(num_filter[0]*4 + num_filter[1], num_filter[0], num_filter[0])\n",
        "\n",
        "        self.final = nn.Conv2d(filters[0], out_ch, kernel_size=1)\n",
        "        # if self.deep_supervision:\n",
        "        #     self.output1 = nn.Conv2d(num_filter[0], num_classes, kernel_size=1)\n",
        "        #     self.output2 = nn.Conv2d(num_filter[0], num_classes, kernel_size=1)\n",
        "        #     self.output3 = nn.Conv2d(num_filter[0], num_classes, kernel_size=1)\n",
        "        #     self.output4 = nn.Conv2d(num_filter[0], num_classes, kernel_size=1)\n",
        "\n",
        "        # else:\n",
        "        #     self.output = nn.Conv2d(num_filter[0], num_classes, kernel_size=1)\n",
        "\n",
        "        # initialise weights\n",
        "        # for m in self.modules():\n",
        "        #     if isinstance(m, nn.Conv2d):\n",
        "        #         init_weights(m, init_type='kaiming')\n",
        "        #     elif isinstance(m, nn.BatchNorm2d):\n",
        "        #         init_weights(m, init_type='kaiming')\n",
        "\n",
        "    def forward(self, x):\n",
        "\n",
        "        x0_0 = self.conv0_0(x)\n",
        "        x1_0 = self.conv1_0(self.pool(x0_0))\n",
        "        x0_1 = self.conv0_1(torch.cat([x0_0, self.Up(x1_0)], 1))\n",
        "\n",
        "        x2_0 = self.conv2_0(self.pool(x1_0))\n",
        "        x1_1 = self.conv1_1(torch.cat([x1_0, self.Up(x2_0)], 1))\n",
        "        x0_2 = self.conv0_2(torch.cat([x0_0, x0_1, self.Up(x1_1)], 1))\n",
        "\n",
        "        x3_0 = self.conv3_0(self.pool(x2_0))\n",
        "        x2_1 = self.conv2_1(torch.cat([x2_0, self.Up(x3_0)], 1))\n",
        "        x1_2 = self.conv1_2(torch.cat([x1_0, x1_1, self.Up(x2_1)], 1))\n",
        "        x0_3 = self.conv0_3(torch.cat([x0_0, x0_1, x0_2, self.Up(x1_2)], 1))\n",
        "\n",
        "        x4_0 = self.conv4_0(self.pool(x3_0))\n",
        "        x3_1 = self.conv3_1(torch.cat([x3_0, self.Up(x4_0)], 1))\n",
        "        x2_2 = self.conv2_2(torch.cat([x2_0, x2_1, self.Up(x3_1)], 1))\n",
        "        x1_3 = self.conv1_3(torch.cat([x1_0, x1_1, x1_2, self.Up(x2_2)], 1))\n",
        "        x0_4 = self.conv0_4(torch.cat([x0_0, x0_1, x0_2, x0_3, self.Up(x1_3)], 1))\n",
        "\n",
        "        output = self.final(x0_4)\n",
        "        return output\n",
        "    # def forward(self, x):                    # (Batch, 3, 256, 256)\n",
        "\n",
        "    #     x0_0 = self.conv0_0(x)\n",
        "    #     x1_0 = self.conv1_0(self.pool(x0_0))\n",
        "    #     x0_1 = self.conv0_1(torch.cat([x0_0, self.up(x1_0)], dim=1))\n",
        "\n",
        "    #     x2_0 = self.conv2_0(self.pool(x1_0))\n",
        "    #     x1_1 = self.conv1_1(torch.cat([x1_0, self.up(x2_0)], dim=1))\n",
        "    #     x0_2 = self.conv0_2(torch.cat([x0_0, x0_1, self.up(x1_1)], dim=1))\n",
        "\n",
        "    #     x3_0 = self.conv3_0(self.pool(x2_0))\n",
        "    #     x2_1 = self.conv2_1(torch.cat([x2_0, self.up(x3_0)], dim=1))\n",
        "    #     x1_2 = self.conv1_2(torch.cat([x1_0, x1_1, self.up(x2_1)], dim=1))\n",
        "    #     x0_3 = self.conv0_3(torch.cat([x0_0, x0_1, x0_2, self.up(x1_2)], dim=1))\n",
        "\n",
        "    #     x4_0 = self.conv4_0(self.pool(x3_0))\n",
        "    #     x3_1 = self.conv3_1(torch.cat([x3_0, self.up(x4_0)], dim=1))\n",
        "    #     x2_2 = self.conv2_2(torch.cat([x2_0, x2_1, self.up(x3_1)], dim=1))\n",
        "    #     x1_3 = self.conv1_3(torch.cat([x1_0, x1_1, x1_2, self.up(x2_2)], dim=1))\n",
        "    #     x0_4 = self.conv0_4(torch.cat([x0_0, x0_1, x0_2, x0_3, self.up(x1_3)], dim=1))\n",
        "\n",
        "    #     if self.deep_supervision:\n",
        "    #         output1 = self.output1(x0_1)\n",
        "    #         output2 = self.output2(x0_2)\n",
        "    #         output3 = self.output3(x0_3)\n",
        "    #         output4 = self.output4(x0_4)\n",
        "    #         output = (output1 + output2 + output3 + output4) / 4\n",
        "    #     else:\n",
        "    #         output = self.output(x0_4)\n",
        "\n",
        "    #     return output\n",
        "\n",
        "# U-Net++의 모델\n",
        "# forward: 처음에 이미지(x)가 하나의 Convolution Block (Conv-BN-ReLU -> 2번 반복)을 거친다.\n",
        "\n",
        "# 그렇게 해서 나온 결과 x0_0를 Pooling을 통해 x1_0이 나옵니다. 여기까지는 U-Net과 동일.\n",
        "# 이후, 풀링한 x1_0을 Upsampling을 통해 사이즈를 키우고 x0_0과 Concatenate를 합니다.\n",
        "# 이 때, dim=1은 채널 차원으로 결합하는 것입니다. 이를 차원을 써가며 살펴보겠습니다.\n",
        "\n",
        "# 원본 이미지의 차원은 3개의 채널을 가진 (Batch Size, 3, 256, 256) 입니다.\n",
        "# 그리고 하나의 Convolution Block을 통과한 x0_0의 차원은 (Batch, 32, 256, 256)입니다.\n",
        "# Convolution Block을 통과하고도 이미지 사이즈가 같은 이유는 Padding을 해주었기 때문입니다.\n",
        "# 그리고, x1_0은 x0_0를 풀링하고 Convolution Block을 통과해 (Batch, 64, 128, 128)이 됩니다.\n",
        "# 이후 x1_0을 Upsampling하면 (Batch, 64, 256, 256)이 됩니다.\n",
        "# 이를, x0_0 (Batch, 32, 256, 256)와 Concatenate를 해주면 (Batch, 96, 256, 256)이 됩니다.\n",
        "# 이를, 한 번 더 Convolution Block에 통과시키면 (Batch, 32, 256, 256)이 됩니다.\n",
        "# 이런 방식으로 기존 U-Net에 Skip을 촘촘히 연결하여 U-Net++ 모델이 구성됩니다."
      ],
      "metadata": {
        "id": "TYgP38y0N9P3"
      },
      "execution_count": 7,
      "outputs": []
    },
    {
      "cell_type": "markdown",
      "source": [
        "Model Train"
      ],
      "metadata": {
        "id": "GEvmGdu-N9le"
      }
    },
    {
      "cell_type": "code",
      "source": [
        "# model 초기화\n",
        "model = Nested_UNet().to(device)\n",
        "\n",
        "# loss function과 optimizer 정의\n",
        "criterion = torch.nn.BCEWithLogitsLoss()\n",
        "optimizer = torch.optim.Adam(model.parameters(), lr=0.001)\n",
        "\n",
        "# training loop\n",
        "for epoch in range(10):  # 10 에폭 동안 학습\n",
        "    model.train()\n",
        "    epoch_loss = 0\n",
        "    for images, masks in tqdm(dataloader):\n",
        "        images = images.float().to(device)\n",
        "        masks = masks.float().to(device)\n",
        "\n",
        "        optimizer.zero_grad()\n",
        "        outputs = model(images)\n",
        "        loss = criterion(outputs, masks.unsqueeze(1))\n",
        "        loss.backward()\n",
        "        optimizer.step()\n",
        "\n",
        "        epoch_loss += loss.item()\n",
        "\n",
        "    print(f'Epoch {epoch+1}, Loss: {epoch_loss/len(dataloader)}')\n"
      ],
      "metadata": {
        "id": "457IyLuzN9qo",
        "colab": {
          "base_uri": "https://localhost:8080/"
        },
        "outputId": "72edb676-80e6-43c2-8de9-1204accb096a"
      },
      "execution_count": 8,
      "outputs": [
        {
          "output_type": "stream",
          "name": "stderr",
          "text": [
            "100%|██████████| 447/447 [11:47<00:00,  1.58s/it]\n"
          ]
        },
        {
          "output_type": "stream",
          "name": "stdout",
          "text": [
            "Epoch 1, Loss: 0.14844342381162132\n"
          ]
        },
        {
          "output_type": "stream",
          "name": "stderr",
          "text": [
            "100%|██████████| 447/447 [08:01<00:00,  1.08s/it]\n"
          ]
        },
        {
          "output_type": "stream",
          "name": "stdout",
          "text": [
            "Epoch 2, Loss: 0.09703437690633522\n"
          ]
        },
        {
          "output_type": "stream",
          "name": "stderr",
          "text": [
            "100%|██████████| 447/447 [07:59<00:00,  1.07s/it]\n"
          ]
        },
        {
          "output_type": "stream",
          "name": "stdout",
          "text": [
            "Epoch 3, Loss: 0.08480732774641156\n"
          ]
        },
        {
          "output_type": "stream",
          "name": "stderr",
          "text": [
            "100%|██████████| 447/447 [07:55<00:00,  1.06s/it]\n"
          ]
        },
        {
          "output_type": "stream",
          "name": "stdout",
          "text": [
            "Epoch 4, Loss: 0.07876688333632428\n"
          ]
        },
        {
          "output_type": "stream",
          "name": "stderr",
          "text": [
            "100%|██████████| 447/447 [07:49<00:00,  1.05s/it]\n"
          ]
        },
        {
          "output_type": "stream",
          "name": "stdout",
          "text": [
            "Epoch 5, Loss: 0.07304198584067208\n"
          ]
        },
        {
          "output_type": "stream",
          "name": "stderr",
          "text": [
            "100%|██████████| 447/447 [07:57<00:00,  1.07s/it]\n"
          ]
        },
        {
          "output_type": "stream",
          "name": "stdout",
          "text": [
            "Epoch 6, Loss: 0.06896279679748836\n"
          ]
        },
        {
          "output_type": "stream",
          "name": "stderr",
          "text": [
            "100%|██████████| 447/447 [08:13<00:00,  1.10s/it]\n"
          ]
        },
        {
          "output_type": "stream",
          "name": "stdout",
          "text": [
            "Epoch 7, Loss: 0.06780665937886142\n"
          ]
        },
        {
          "output_type": "stream",
          "name": "stderr",
          "text": [
            "100%|██████████| 447/447 [08:19<00:00,  1.12s/it]\n"
          ]
        },
        {
          "output_type": "stream",
          "name": "stdout",
          "text": [
            "Epoch 8, Loss: 0.06358020624325046\n"
          ]
        },
        {
          "output_type": "stream",
          "name": "stderr",
          "text": [
            "100%|██████████| 447/447 [07:55<00:00,  1.06s/it]\n"
          ]
        },
        {
          "output_type": "stream",
          "name": "stdout",
          "text": [
            "Epoch 9, Loss: 0.06191405346429588\n"
          ]
        },
        {
          "output_type": "stream",
          "name": "stderr",
          "text": [
            "100%|██████████| 447/447 [07:48<00:00,  1.05s/it]"
          ]
        },
        {
          "output_type": "stream",
          "name": "stdout",
          "text": [
            "Epoch 10, Loss: 0.05934313072987584\n"
          ]
        },
        {
          "output_type": "stream",
          "name": "stderr",
          "text": [
            "\n"
          ]
        }
      ]
    },
    {
      "cell_type": "markdown",
      "source": [
        "Inference"
      ],
      "metadata": {
        "id": "S4-iJnaWOE4c"
      }
    },
    {
      "cell_type": "code",
      "source": [
        "test_dataset = SatelliteDataset(csv_file='./test.csv', transform=transform, infer=True)\n",
        "test_dataloader = DataLoader(test_dataset, batch_size=16, shuffle=False, num_workers=4)"
      ],
      "metadata": {
        "id": "o86u9Ls-OE9I",
        "colab": {
          "base_uri": "https://localhost:8080/"
        },
        "outputId": "96025b1d-c2a9-4c0c-8b69-a07f77d7509b"
      },
      "execution_count": 9,
      "outputs": [
        {
          "output_type": "stream",
          "name": "stderr",
          "text": [
            "/usr/local/lib/python3.10/dist-packages/torch/utils/data/dataloader.py:560: UserWarning: This DataLoader will create 4 worker processes in total. Our suggested max number of worker in current system is 2, which is smaller than what this DataLoader is going to create. Please be aware that excessive worker creation might get DataLoader running slow or even freeze, lower the worker number to avoid potential slowness/freeze if necessary.\n",
            "  warnings.warn(_create_warning_msg(\n"
          ]
        }
      ]
    },
    {
      "cell_type": "code",
      "source": [
        "with torch.no_grad():\n",
        "    model.eval()\n",
        "    result = []\n",
        "    for images in tqdm(test_dataloader):\n",
        "        images = images.float().to(device)\n",
        "\n",
        "        outputs = model(images)\n",
        "        masks = torch.sigmoid(outputs).cpu().numpy()\n",
        "        masks = np.squeeze(masks, axis=1)\n",
        "        masks = (masks > 0.35).astype(np.uint8) # Threshold = 0.35\n",
        "\n",
        "        for i in range(len(images)):\n",
        "            mask_rle = rle_encode(masks[i])\n",
        "            if mask_rle == '': # 예측된 건물 픽셀이 아예 없는 경우 -1\n",
        "                result.append(-1)\n",
        "            else:\n",
        "                result.append(mask_rle)"
      ],
      "metadata": {
        "id": "Z7fwtFFfOIml",
        "colab": {
          "base_uri": "https://localhost:8080/"
        },
        "outputId": "97c1186a-06b7-4758-923c-eb4675f4953d"
      },
      "execution_count": 10,
      "outputs": [
        {
          "output_type": "stream",
          "name": "stderr",
          "text": [
            "100%|██████████| 3790/3790 [53:09<00:00,  1.19it/s]\n"
          ]
        }
      ]
    },
    {
      "cell_type": "markdown",
      "source": [
        "Submission"
      ],
      "metadata": {
        "id": "hxJJaBMTOK_B"
      }
    },
    {
      "cell_type": "code",
      "source": [
        "submit = pd.read_csv('./sample_submission.csv')\n",
        "submit['mask_rle'] = result"
      ],
      "metadata": {
        "id": "IIpSz6SoOL8S"
      },
      "execution_count": 11,
      "outputs": []
    },
    {
      "cell_type": "code",
      "source": [
        "submit.to_csv('./submit.csv', index=False)"
      ],
      "metadata": {
        "id": "KKQ1UfQHOPef"
      },
      "execution_count": 12,
      "outputs": []
    }
  ]
}